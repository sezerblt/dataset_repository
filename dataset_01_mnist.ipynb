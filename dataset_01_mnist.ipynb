{
  "nbformat": 4,
  "nbformat_minor": 0,
  "metadata": {
    "colab": {
      "private_outputs": true,
      "provenance": [],
      "authorship_tag": "ABX9TyNRyP5oKfUA6SRTYPE4vO7l",
      "include_colab_link": true
    },
    "kernelspec": {
      "name": "python3",
      "display_name": "Python 3"
    },
    "language_info": {
      "name": "python"
    }
  },
  "cells": [
    {
      "cell_type": "markdown",
      "metadata": {
        "id": "view-in-github",
        "colab_type": "text"
      },
      "source": [
        "<a href=\"https://colab.research.google.com/github/sezerblt/dataset_repository/blob/main/dataset_01_mnist.ipynb\" target=\"_parent\"><img src=\"https://colab.research.google.com/assets/colab-badge.svg\" alt=\"Open In Colab\"/></a>"
      ]
    },
    {
      "cell_type": "code",
      "execution_count": null,
      "metadata": {
        "id": "oinEsQTQQHt6"
      },
      "outputs": [],
      "source": [
        "!pip install pandas\n",
        "!pip install keras\n",
        "!pip install Pillow\n",
        "!pip install matplotlib\n",
        "!pip install tensorflow"
      ]
    },
    {
      "cell_type": "markdown",
      "source": [],
      "metadata": {
        "id": "8d8jW9M_ZXYU"
      }
    },
    {
      "cell_type": "code",
      "source": [
        "from keras.datasets import mnist\n",
        "import tensorflow\n",
        "from tensorflow.keras.preprocessing.image import ImageDataGenerator\n",
        "\n",
        "def loadTrainDataset():\n",
        "  (X_train,Y_train)=mnist.load_data()[0]\n",
        "  W,H,C=(X_train.shape[1],X_train.shape[2],1)\n",
        "  X_train=X_train.reshape( (X_train.shape[0],W,H,1) )\n",
        "  return (X_train,Y_train)\n",
        "  \n",
        "\n",
        "def loadTestDataSet():\n",
        "  (X_test,Y_test)=mnist.load_data()[1]\n",
        "  W,H,C=(X_test.shape[1],X_test.shape[2],1)\n",
        "  X_test=X_test.reshape( (X_test.shape[0],W,H,1) )\n",
        "  return (X_test,Y_test)\n",
        "\n",
        "\n",
        "def setImageDataGenerator():\n",
        "  x_train,y_train=loadTrainDataset()\n",
        "  x_test,y_test=loadTestDataSet()\n",
        "  img_data_gen=ImageDataGenerator(featurewise_center=True,featurewise_std_normalization=True)\n",
        "  img_data_gen.fit(x_train)\n",
        "\n",
        "  train_iterator=img_data_gen.flow(x_train,y_train,batch_size=len(x_train))\n",
        "  batch_x,batch_y=train_iterator.next()\n",
        "  print(f\"x:{batch_x.shape}\")\n",
        "  print(f\"y:{batch_y.shape}\")\n",
        "  \n",
        "  validation_iterator=img_data_gen.flow(x_test,y_test,batch_size=len(x_test),shuffle=False)\n",
        "  batch_x2,batch_y2=validation_iterator.next()\n",
        "  print(f\"x2:{batch_x2.shape}\")\n",
        "  print(f\"y2:{batch_y2.shape}\")\n",
        "\n",
        "setImageDataGenerator()"
      ],
      "metadata": {
        "id": "j6TpcRmzLOtx"
      },
      "execution_count": null,
      "outputs": []
    }
  ]
}