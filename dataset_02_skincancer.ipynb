{
  "nbformat": 4,
  "nbformat_minor": 0,
  "metadata": {
    "colab": {
      "name": "_02_SkinCancer",
      "private_outputs": true,
      "provenance": [],
      "authorship_tag": "ABX9TyNkwMF2TY2iRHuvkwB6DZBb",
      "include_colab_link": true
    },
    "kernelspec": {
      "name": "python3",
      "display_name": "Python 3"
    },
    "language_info": {
      "name": "python"
    },
    "accelerator": "TPU"
  },
  "cells": [
    {
      "cell_type": "markdown",
      "metadata": {
        "id": "view-in-github",
        "colab_type": "text"
      },
      "source": [
        "<a href=\"https://colab.research.google.com/github/sezerblt/dataset_repository/blob/main/dataset_02_skincancer.ipynb\" target=\"_parent\"><img src=\"https://colab.research.google.com/assets/colab-badge.svg\" alt=\"Open In Colab\"/></a>"
      ]
    },
    {
      "cell_type": "markdown",
      "metadata": {
        "id": "GEZdmIaMHYNF"
      },
      "source": [
        "Verisetinin bulunduğu klasöre gitmek için os modulu import edilip aut yetkisinden sonra işlemi başlatıyoruz"
      ]
    },
    {
      "cell_type": "markdown",
      "metadata": {
        "id": "TQ0RRnnwuOEE"
      },
      "source": [
        "görüntü veri setinin bulundugu klasör git ve gerekli os ayarlamaları yap"
      ]
    },
    {
      "cell_type": "code",
      "metadata": {
        "id": "XKLTu0YRp0fM"
      },
      "source": [
        "from google.colab import drive\n",
        "drive.mount(\"/content/gdrive\")\n",
        "import os\n",
        "os.environ[\"KAGGLE_CONFIG_DIR\"]=\"/content/gdrive/MyDrive/Kaggle\""
      ],
      "execution_count": null,
      "outputs": []
    },
    {
      "cell_type": "markdown",
      "metadata": {
        "id": "S8_ZJU_cuqaF"
      },
      "source": [
        "Kullanacağımız tüm paketleri import ediyoruz.İşlemleri yapacağımız dizine gidiyoruz"
      ]
    },
    {
      "cell_type": "code",
      "metadata": {
        "id": "hwaX7bOfpZg_"
      },
      "source": [
        "import numpy as np\n",
        "import os\n",
        "import tensorflow as tf\n",
        "import tensorflow_datasets as tfds\n",
        "import pathlib\n",
        "from PIL import Image\n",
        "%cd \"/content/gdrive/MyDrive/Kaggle\""
      ],
      "execution_count": null,
      "outputs": []
    },
    {
      "cell_type": "markdown",
      "metadata": {
        "id": "hDZnnTvOfn8D"
      },
      "source": [
        "VERİ SETİNİ LİNK ÜZERİNDEN İNDİRME"
      ]
    },
    {
      "cell_type": "markdown",
      "metadata": {
        "id": "99sdmtWAYe30"
      },
      "source": [
        "#link üzeinden dosya indirme\n"
      ]
    },
    {
      "cell_type": "markdown",
      "metadata": {
        "id": "69LJQEzZuzvp"
      },
      "source": [
        "Görüntünün bulunduğu dizin ve ve dosya içerisinde bulunan görüntü sayısını bir değere atayalım\n",
        " Test ve train verilerini ayıralım"
      ]
    },
    {
      "cell_type": "code",
      "metadata": {
        "id": "Yb3h62eDsqs3"
      },
      "source": [
        "file_path=\"/content/gdrive/MyDrive/Kaggle/data\"\n",
        "data_dir = pathlib.Path(file_path)\n",
        "imageCount=len(list(data_dir.glob(\"*/*/*.jpg\")))\n",
        "\n",
        "TRAIN_bening    = file_path+str(\"/train/benign\")\n",
        "TRAIN_malignant = file_path+str(\"/train/malignant\")\n",
        "TEST_bening     = file_path+str(\"/test/benign\")\n",
        "TEST_malignant  = file_path+str(\"/test/malignant\")\n",
        "\n",
        "TRAIN_bening_list   = list(data_dir.glob(\"train/benign/*.jpg\"))\n",
        "TRAIN_malignant_list= list(data_dir.glob(\"train/malignant/*.jpg\"))\n",
        "TEST_bening_list    = list(data_dir.glob(\"test/benign/*.jpg\"))\n",
        "TEST_malignant_list = list(data_dir.glob(\"test/malignant/*.jpg\"))\n"
      ],
      "execution_count": null,
      "outputs": []
    },
    {
      "cell_type": "markdown",
      "metadata": {
        "id": "StI0KFbH0nPt"
      },
      "source": [
        "görüntü dataseti yükleyip, matrise dönüstürelim"
      ]
    },
    {
      "cell_type": "code",
      "metadata": {
        "id": "Kl4v12HM0zT6"
      },
      "source": [
        "joinLambda =lambda image_name : np.asarray(Image.open(image_name).convert(\"RGB\"))\n",
        "print(\"...\")\n",
        "IMG_train_benign = [joinLambda(os.path.join(TRAIN_bening, filename)) for filename in os.listdir(TRAIN_bening)]\n",
        "X_BENIGN = np.array(IMG_train_benign, dtype='uint8')\n",
        "\n",
        "IMG_train_malignant = [joinLambda(os.path.join(TRAIN_malignant, filename)) for filename in os.listdir(TRAIN_malignant)]\n",
        "X_MALIGNANT = np.array(IMG_train_malignant, dtype='uint8')\n",
        "print(\"...\")"
      ],
      "execution_count": null,
      "outputs": []
    },
    {
      "cell_type": "code",
      "metadata": {
        "id": "Ik_GUhUOJS31"
      },
      "source": [
        "IMG_test_benign = [joinLambda(os.path.join(TEST_bening, filename)) for filename in os.listdir(TEST_bening)]\n",
        "X_BENIGN_TEST = np.array(IMG_test_benign, dtype='uint8')\n",
        "\n",
        "IMG_test_malignant = [joinLambda(os.path.join(TEST_malignant, filename)) for filename in os.listdir(TEST_malignant)]\n",
        "X_MALIGNANT_TEST = np.array(IMG_test_malignant, dtype='uint8')\n",
        "print(\"...\")"
      ],
      "execution_count": null,
      "outputs": []
    },
    {
      "cell_type": "markdown",
      "metadata": {
        "id": "rLNrEbtFLfMN"
      },
      "source": [
        "Sınıflandırma için etiketleri tanımlayalım.\n",
        "zeros:Kotu huylu degil\n",
        "ones:Kotu Huylu"
      ]
    },
    {
      "cell_type": "code",
      "metadata": {
        "id": "TdfYfKE52jxg"
      },
      "source": [],
      "execution_count": null,
      "outputs": []
    },
    {
      "cell_type": "code",
      "metadata": {
        "id": "o1Km8Jzk7cwf"
      },
      "source": [
        "Y_Benign    = np.zeros(X_BENIGN.shape[0])\n",
        "Y_Malignant = np.ones(X_MALIGNANT.shape[0])\n",
        "\n",
        "Y_TEST_Benign    = np.zeros(X_BENIGN_TEST.shape[0])\n",
        "Y_TEST_Malignant = np.ones(X_MALIGNANT_TEST.shape[0])"
      ],
      "execution_count": null,
      "outputs": []
    },
    {
      "cell_type": "markdown",
      "metadata": {
        "id": "3ev_W8aLMbuW"
      },
      "source": [
        "Egitim için iyi huylu ve kotu huylu verilerini birleştir\n",
        "\n",
        "Egitim için iyi huylu ve kotu huylu etiketlerini  birleştir\n",
        "\n",
        "TEST için iyi huylu ve kotu huylu verilerini birleştir\n",
        "\n",
        "TEST için iyi huylu ve kotu huylu etiketlerini  birleştir\n"
      ]
    },
    {
      "cell_type": "code",
      "metadata": {
        "id": "aneTCRoDNK6g"
      },
      "source": [
        "X_TRAIN = np.concatenate((X_BENIGN,X_MALIGNANT),axis=0)\n",
        "Y_TRAIN = np.concatenate((Y_Benign,Y_Malignant),axis=0)\n",
        "\n",
        "\n",
        "X_TEST = np.concatenate((X_BENIGN_TEST,X_MALIGNANT_TEST),axis=0)\n",
        "Y_TEST = np.concatenate((Y_TEST_Benign,Y_TEST_Malignant),axis=0)"
      ],
      "execution_count": null,
      "outputs": []
    },
    {
      "cell_type": "markdown",
      "metadata": {
        "id": "d9n3Q9KYPy7a"
      },
      "source": [
        "Verileri karıştır.shuffling)"
      ]
    },
    {
      "cell_type": "code",
      "metadata": {
        "id": "xZaqWJQcPgOZ"
      },
      "source": [
        "len_train = np.arange(X_TRAIN.shape[0])\n",
        "np.random.shuffle(len_train)\n",
        "X_TRAIN=X_TRAIN[len_train]\n",
        "Y_TRAIN=Y_TRAIN[len_train]\n",
        "\n",
        "len_train = np.arange(X_TEST.shape[0])\n",
        "np.random.shuffle(len_train)\n",
        "X_TEST =X_TEST[len_train]\n",
        "Y_TEST =Y_TEST[len_train]"
      ],
      "execution_count": null,
      "outputs": []
    },
    {
      "cell_type": "markdown",
      "metadata": {
        "id": "SMa-GHNYxQpq"
      },
      "source": [
        "veri seti boyutlarını ekranda goster"
      ]
    },
    {
      "cell_type": "code",
      "metadata": {
        "id": "_b-Sfkvadk64"
      },
      "source": [
        "print(\"train image shape:\",X_TRAIN.shape)\n",
        "print(\"test image shape:\",X_TEST.shape)\n",
        "print(\"len train image :\",len(X_TRAIN))\n",
        "print(\"\")\n",
        "print(\"train label shape:\",Y_TRAIN.shape)\n",
        "print(\"test label shape:\",Y_TEST.shape)\n",
        "print(\"len train label :\",len(Y_TRAIN))"
      ],
      "execution_count": null,
      "outputs": []
    },
    {
      "cell_type": "code",
      "metadata": {
        "id": "IFys4Vr3baRb"
      },
      "source": [
        "class_names=[\"Iyi\",\"kotu\"]"
      ],
      "execution_count": null,
      "outputs": []
    },
    {
      "cell_type": "markdown",
      "metadata": {
        "id": "w0RrSOFdeOkX"
      },
      "source": [
        "örnek 25 tane esmi görselleştirelim"
      ]
    },
    {
      "cell_type": "code",
      "metadata": {
        "id": "UWJQNQPJIN9e"
      },
      "source": [
        "import matplotlib.pyplot as plt\n",
        "plt.figure(figsize=(10,10))\n",
        "for i in range(25):\n",
        "  plt.subplot(5,5,i+1)\n",
        "  plt.xticks([])\n",
        "  plt.yticks([])\n",
        "  plt.grid(False)\n",
        "  plt.imshow(X_TRAIN[i], cmap=plt.cm.binary)\n",
        "  if Y_TRAIN[i]==1:\n",
        "    plt.xlabel(class_names[int(Y_TRAIN[i])]+\" huylu\")\n",
        "  else:\n",
        "    plt.xlabel(class_names[int(Y_TRAIN[i])]+\" huylu\")\n",
        "plt.show()\n"
      ],
      "execution_count": null,
      "outputs": []
    },
    {
      "cell_type": "code",
      "metadata": {
        "id": "cuSPVYBydc84"
      },
      "source": [
        "plt.bar(0, Y_TRAIN[np.where(Y_TRAIN == 0)].shape[0], label = 'iyi huylu')\n",
        "plt.bar(1, Y_TRAIN[np.where(Y_TRAIN == 1)].shape[0], label = 'kotu huylu')\n",
        "plt.legend()\n",
        "plt.title(\"Training Data\")\n",
        "plt.show()\n",
        "\n",
        "plt.bar(0, Y_TEST[np.where(Y_TEST == 0)].shape[0], label = 'benign')\n",
        "plt.bar(1, Y_TEST[np.where(Y_TEST == 1)].shape[0], label = 'malignant')\n",
        "plt.legend()\n",
        "plt.title(\"Test Data\")\n",
        "plt.show()"
      ],
      "execution_count": null,
      "outputs": []
    },
    {
      "cell_type": "code",
      "metadata": {
        "id": "ERc-flwExiZN"
      },
      "source": [
        "\n",
        "H,W,C=X_TRAIN.shape[1],X_TRAIN.shape[2],X_TRAIN.shape[3]\n",
        "print(\"h: \",H)\n",
        "print(\"w: \",W)\n",
        "print(\"c: \",C)\n",
        "\n",
        "model = tf.keras.Sequential([\n",
        "    tf.keras.layers.Flatten(input_shape=(H, W,C)),\n",
        "    tf.keras.layers.Dense(128, activation='relu'),\n",
        "    tf.keras.layers.Dense(2)\n",
        "])"
      ],
      "execution_count": null,
      "outputs": []
    },
    {
      "cell_type": "code",
      "metadata": {
        "id": "WbNNPLWX1K9k"
      },
      "source": [
        "model.compile(optimizer='adam',\n",
        "              loss=tf.keras.losses.SparseCategoricalCrossentropy(from_logits=True),\n",
        "              metrics=['categorical_accuracy'])"
      ],
      "execution_count": null,
      "outputs": []
    },
    {
      "cell_type": "code",
      "metadata": {
        "id": "95hqXYhK1NF3"
      },
      "source": [
        "model.fit(X_TRAIN, Y_TRAIN, epochs=5)"
      ],
      "execution_count": null,
      "outputs": []
    },
    {
      "cell_type": "code",
      "metadata": {
        "id": "IfWkEZsp2lUg"
      },
      "source": [
        "test_loss, test_acc = model.evaluate(X_TEST,  Y_TEST, verbose=2)\n",
        "\n",
        "print('\\nTest accuracy:', test_acc)"
      ],
      "execution_count": null,
      "outputs": []
    },
    {
      "cell_type": "code",
      "metadata": {
        "id": "hm9Bm9Z43_mA"
      },
      "source": [
        "probability_model = tf.keras.Sequential([model, \n",
        "                                         tf.keras.layers.Softmax()])\n",
        "predictions = probability_model.predict(X_TEST)\n",
        "\n",
        "for i in range(5):\n",
        "  a=np.random.randint(20)\n",
        "  print(predictions[a])\n",
        "  print(\"\\n\")"
      ],
      "execution_count": null,
      "outputs": []
    },
    {
      "cell_type": "code",
      "metadata": {
        "id": "v0ESBnaS5KME"
      },
      "source": [
        "def plot_image(i, predictions_array, true_label, img):\n",
        "  true_label, img = true_label[i], img[i]\n",
        "  plt.grid(False)\n",
        "  plt.xticks([])\n",
        "  plt.yticks([])\n",
        "\n",
        "  plt.imshow(img, cmap=plt.cm.binary)\n",
        "\n",
        "  predicted_label = np.argmax(predictions_array)\n",
        "  if predicted_label == true_label:\n",
        "    color = 'blue'\n",
        "  else:\n",
        "    color = 'red'\n",
        "\n",
        "  plt.xlabel(\"Gercek:{} {:2.0f}% \".format(class_names[predicted_label],\n",
        "                                100*np.max(predictions_array),\n",
        "                                color=color)\n",
        "\n",
        "def plot_value_array(i, predictions_array, true_label):\n",
        "  true_label = true_label[i]\n",
        "  plt.grid(False)\n",
        "  plt.xticks(range(2))\n",
        "  plt.yticks([])\n",
        "  thisplot = plt.bar(range(2), predictions_array, color=\"#777777\")\n",
        "  plt.ylim([0, 1])\n",
        "  predicted_label = np.argmax(predictions_array)\n",
        "  \n",
        "\n",
        "  thisplot[predicted_label].set_color('red')\n",
        "  thisplot[int(true_label)].set_color('blue')\n",
        "  plt.xlabel(\"Tahmin:({})\".format(\n",
        "                                class_names[int(true_label)],\n",
        "                                color=\"c\")\n",
        "  )\n",
        "\n",
        "num_rows = 5\n",
        "num_cols = 2\n",
        "num_images = num_rows*num_cols\n",
        "plt.figure(figsize=(2*2*num_cols, 2*num_rows))\n",
        "for i in range(num_images):\n",
        "  plt.subplot(num_rows, 2*num_cols, 2*i+1)\n",
        "  plot_image(i, predictions[i], Y_TEST, X_TEST)\n",
        "\n",
        "  plt.subplot(num_rows, 2*num_cols, 2*i+2)\n",
        "  plot_value_array(i, predictions[i], Y_TEST)\n",
        "plt.tight_layout()\n",
        "plt.show()"
      ],
      "execution_count": null,
      "outputs": []
    }
  ]
}